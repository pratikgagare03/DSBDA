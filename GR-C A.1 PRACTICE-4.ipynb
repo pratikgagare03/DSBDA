{
 "cells": [
  {
   "cell_type": "code",
   "execution_count": 1,
   "id": "a3bc5c62",
   "metadata": {},
   "outputs": [],
   "source": [
    "import requests\n",
    "from bs4 import BeautifulSoup"
   ]
  },
  {
   "cell_type": "code",
   "execution_count": 2,
   "id": "a805988c",
   "metadata": {},
   "outputs": [],
   "source": [
    "HEADERS = {\n",
    "    'User-Agent' : 'Mozilla/5.0 (Linux; Android 6.0; Nexus 5 Build/MRA58N) AppleWebKit/537.36 (KHTML, like Gecko) Chrome/113.0.0.0 Mobile Safari/537.36',\n",
    "}"
   ]
  },
  {
   "cell_type": "code",
   "execution_count": 3,
   "id": "ccc43c12",
   "metadata": {},
   "outputs": [],
   "source": [
    "def getdata(site_url):\n",
    "    res = requests.get(site_url, headers=HEADERS)\n",
    "    return res.text"
   ]
  },
  {
   "cell_type": "code",
   "execution_count": 4,
   "id": "083edef1",
   "metadata": {},
   "outputs": [],
   "source": [
    "def gethtml(site_url):\n",
    "    data = getdata(site_url)\n",
    "    soup = BeautifulSoup(data, 'html.parser')\n",
    "    return (soup)"
   ]
  },
  {
   "cell_type": "code",
   "execution_count": 5,
   "id": "17a70d19",
   "metadata": {},
   "outputs": [],
   "source": [
    "site_url = \"https://www.amazon.in/Noise-Launched-Bluetooth-Calling-Tracking/dp/B0BJ72WZQ7/ref=sr_1_1?pd_rd_r=ae4d194a-d999-4e0e-9b29-5ca191ee9743&pd_rd_w=iBz9R&pd_rd_wg=o9Y10&pf_rd_p=e2546a60-4148-477d-9317-c197edb0842a&pf_rd_r=VK9R686K3GC81WT9PKA5&qid=1684948496&sr=8-1\"\n",
    "soup = gethtml(site_url)"
   ]
  },
  {
   "cell_type": "code",
   "execution_count": 6,
   "id": "93eae1a1",
   "metadata": {},
   "outputs": [
    {
     "name": "stdout",
     "output_type": "stream",
     "text": [
      "['Hidden', \"Would give it a 4 star rating because it's currently the best watch I'm using \", 'Divya somesh bhati', '', '', '', '']\n"
     ]
    }
   ],
   "source": [
    "def getcustomername(soup):\n",
    "    data_string=\"\"\n",
    "    customer_list=[]\n",
    "    \n",
    "    for item in soup.find_all(\"span\", class_=\"a-profile-name\"):\n",
    "        data_string = data_string + item.get_text();\n",
    "        customer_list.append(data_string)\n",
    "        data_string=\"\"\n",
    "    return customer_list\n",
    "\n",
    "call =getcustomername(soup)\n",
    "print(call)"
   ]
  },
  {
   "cell_type": "code",
   "execution_count": null,
   "id": "2343e92c",
   "metadata": {},
   "outputs": [],
   "source": []
  },
  {
   "cell_type": "code",
   "execution_count": null,
   "id": "30c913fb",
   "metadata": {},
   "outputs": [],
   "source": []
  }
 ],
 "metadata": {
  "kernelspec": {
   "display_name": "Python 3 (ipykernel)",
   "language": "python",
   "name": "python3"
  },
  "language_info": {
   "codemirror_mode": {
    "name": "ipython",
    "version": 3
   },
   "file_extension": ".py",
   "mimetype": "text/x-python",
   "name": "python",
   "nbconvert_exporter": "python",
   "pygments_lexer": "ipython3",
   "version": "3.10.9"
  }
 },
 "nbformat": 4,
 "nbformat_minor": 5
}
